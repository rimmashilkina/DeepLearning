{
  "cells": [
    {
      "cell_type": "code",
      "execution_count": 1,
      "metadata": {
        "colab": {
          "base_uri": "https://localhost:8080/"
        },
        "id": "47cc185b",
        "outputId": "8be4a1b4-d5d6-43ae-a4a2-6dc904fff1b2"
      },
      "outputs": [
        {
          "output_type": "stream",
          "name": "stdout",
          "text": [
            "[nltk_data] Downloading package punkt to /root/nltk_data...\n",
            "[nltk_data]   Unzipping tokenizers/punkt.zip.\n",
            "[nltk_data] Downloading package stopwords to /root/nltk_data...\n",
            "[nltk_data]   Unzipping corpora/stopwords.zip.\n",
            "[nltk_data] Downloading package wordnet to /root/nltk_data...\n",
            "[nltk_data]   Unzipping corpora/wordnet.zip.\n",
            "Requirement already satisfied: spacy in /usr/local/lib/python3.7/dist-packages (2.2.4)\n",
            "Requirement already satisfied: wasabi<1.1.0,>=0.4.0 in /usr/local/lib/python3.7/dist-packages (from spacy) (0.9.1)\n",
            "Requirement already satisfied: tqdm<5.0.0,>=4.38.0 in /usr/local/lib/python3.7/dist-packages (from spacy) (4.64.0)\n",
            "Requirement already satisfied: preshed<3.1.0,>=3.0.2 in /usr/local/lib/python3.7/dist-packages (from spacy) (3.0.6)\n",
            "Requirement already satisfied: cymem<2.1.0,>=2.0.2 in /usr/local/lib/python3.7/dist-packages (from spacy) (2.0.6)\n",
            "Requirement already satisfied: setuptools in /usr/local/lib/python3.7/dist-packages (from spacy) (57.4.0)\n",
            "Requirement already satisfied: requests<3.0.0,>=2.13.0 in /usr/local/lib/python3.7/dist-packages (from spacy) (2.23.0)\n",
            "Requirement already satisfied: thinc==7.4.0 in /usr/local/lib/python3.7/dist-packages (from spacy) (7.4.0)\n",
            "Requirement already satisfied: catalogue<1.1.0,>=0.0.7 in /usr/local/lib/python3.7/dist-packages (from spacy) (1.0.0)\n",
            "Requirement already satisfied: numpy>=1.15.0 in /usr/local/lib/python3.7/dist-packages (from spacy) (1.21.6)\n",
            "Requirement already satisfied: murmurhash<1.1.0,>=0.28.0 in /usr/local/lib/python3.7/dist-packages (from spacy) (1.0.7)\n",
            "Requirement already satisfied: plac<1.2.0,>=0.9.6 in /usr/local/lib/python3.7/dist-packages (from spacy) (1.1.3)\n",
            "Requirement already satisfied: blis<0.5.0,>=0.4.0 in /usr/local/lib/python3.7/dist-packages (from spacy) (0.4.1)\n",
            "Requirement already satisfied: srsly<1.1.0,>=1.0.2 in /usr/local/lib/python3.7/dist-packages (from spacy) (1.0.5)\n",
            "Requirement already satisfied: importlib-metadata>=0.20 in /usr/local/lib/python3.7/dist-packages (from catalogue<1.1.0,>=0.0.7->spacy) (4.11.3)\n",
            "Requirement already satisfied: typing-extensions>=3.6.4 in /usr/local/lib/python3.7/dist-packages (from importlib-metadata>=0.20->catalogue<1.1.0,>=0.0.7->spacy) (4.2.0)\n",
            "Requirement already satisfied: zipp>=0.5 in /usr/local/lib/python3.7/dist-packages (from importlib-metadata>=0.20->catalogue<1.1.0,>=0.0.7->spacy) (3.8.0)\n",
            "Requirement already satisfied: certifi>=2017.4.17 in /usr/local/lib/python3.7/dist-packages (from requests<3.0.0,>=2.13.0->spacy) (2021.10.8)\n",
            "Requirement already satisfied: urllib3!=1.25.0,!=1.25.1,<1.26,>=1.21.1 in /usr/local/lib/python3.7/dist-packages (from requests<3.0.0,>=2.13.0->spacy) (1.24.3)\n",
            "Requirement already satisfied: chardet<4,>=3.0.2 in /usr/local/lib/python3.7/dist-packages (from requests<3.0.0,>=2.13.0->spacy) (3.0.4)\n",
            "Requirement already satisfied: idna<3,>=2.5 in /usr/local/lib/python3.7/dist-packages (from requests<3.0.0,>=2.13.0->spacy) (2.10)\n",
            "Collecting en_core_web_sm==2.2.5\n",
            "  Downloading https://github.com/explosion/spacy-models/releases/download/en_core_web_sm-2.2.5/en_core_web_sm-2.2.5.tar.gz (12.0 MB)\n",
            "\u001b[K     |████████████████████████████████| 12.0 MB 4.7 MB/s \n",
            "\u001b[?25hRequirement already satisfied: spacy>=2.2.2 in /usr/local/lib/python3.7/dist-packages (from en_core_web_sm==2.2.5) (2.2.4)\n",
            "Requirement already satisfied: numpy>=1.15.0 in /usr/local/lib/python3.7/dist-packages (from spacy>=2.2.2->en_core_web_sm==2.2.5) (1.21.6)\n",
            "Requirement already satisfied: preshed<3.1.0,>=3.0.2 in /usr/local/lib/python3.7/dist-packages (from spacy>=2.2.2->en_core_web_sm==2.2.5) (3.0.6)\n",
            "Requirement already satisfied: cymem<2.1.0,>=2.0.2 in /usr/local/lib/python3.7/dist-packages (from spacy>=2.2.2->en_core_web_sm==2.2.5) (2.0.6)\n",
            "Requirement already satisfied: requests<3.0.0,>=2.13.0 in /usr/local/lib/python3.7/dist-packages (from spacy>=2.2.2->en_core_web_sm==2.2.5) (2.23.0)\n",
            "Requirement already satisfied: setuptools in /usr/local/lib/python3.7/dist-packages (from spacy>=2.2.2->en_core_web_sm==2.2.5) (57.4.0)\n",
            "Requirement already satisfied: srsly<1.1.0,>=1.0.2 in /usr/local/lib/python3.7/dist-packages (from spacy>=2.2.2->en_core_web_sm==2.2.5) (1.0.5)\n",
            "Requirement already satisfied: plac<1.2.0,>=0.9.6 in /usr/local/lib/python3.7/dist-packages (from spacy>=2.2.2->en_core_web_sm==2.2.5) (1.1.3)\n",
            "Requirement already satisfied: wasabi<1.1.0,>=0.4.0 in /usr/local/lib/python3.7/dist-packages (from spacy>=2.2.2->en_core_web_sm==2.2.5) (0.9.1)\n",
            "Requirement already satisfied: thinc==7.4.0 in /usr/local/lib/python3.7/dist-packages (from spacy>=2.2.2->en_core_web_sm==2.2.5) (7.4.0)\n",
            "Requirement already satisfied: blis<0.5.0,>=0.4.0 in /usr/local/lib/python3.7/dist-packages (from spacy>=2.2.2->en_core_web_sm==2.2.5) (0.4.1)\n",
            "Requirement already satisfied: catalogue<1.1.0,>=0.0.7 in /usr/local/lib/python3.7/dist-packages (from spacy>=2.2.2->en_core_web_sm==2.2.5) (1.0.0)\n",
            "Requirement already satisfied: tqdm<5.0.0,>=4.38.0 in /usr/local/lib/python3.7/dist-packages (from spacy>=2.2.2->en_core_web_sm==2.2.5) (4.64.0)\n",
            "Requirement already satisfied: murmurhash<1.1.0,>=0.28.0 in /usr/local/lib/python3.7/dist-packages (from spacy>=2.2.2->en_core_web_sm==2.2.5) (1.0.7)\n",
            "Requirement already satisfied: importlib-metadata>=0.20 in /usr/local/lib/python3.7/dist-packages (from catalogue<1.1.0,>=0.0.7->spacy>=2.2.2->en_core_web_sm==2.2.5) (4.11.3)\n",
            "Requirement already satisfied: typing-extensions>=3.6.4 in /usr/local/lib/python3.7/dist-packages (from importlib-metadata>=0.20->catalogue<1.1.0,>=0.0.7->spacy>=2.2.2->en_core_web_sm==2.2.5) (4.2.0)\n",
            "Requirement already satisfied: zipp>=0.5 in /usr/local/lib/python3.7/dist-packages (from importlib-metadata>=0.20->catalogue<1.1.0,>=0.0.7->spacy>=2.2.2->en_core_web_sm==2.2.5) (3.8.0)\n",
            "Requirement already satisfied: certifi>=2017.4.17 in /usr/local/lib/python3.7/dist-packages (from requests<3.0.0,>=2.13.0->spacy>=2.2.2->en_core_web_sm==2.2.5) (2021.10.8)\n",
            "Requirement already satisfied: urllib3!=1.25.0,!=1.25.1,<1.26,>=1.21.1 in /usr/local/lib/python3.7/dist-packages (from requests<3.0.0,>=2.13.0->spacy>=2.2.2->en_core_web_sm==2.2.5) (1.24.3)\n",
            "Requirement already satisfied: chardet<4,>=3.0.2 in /usr/local/lib/python3.7/dist-packages (from requests<3.0.0,>=2.13.0->spacy>=2.2.2->en_core_web_sm==2.2.5) (3.0.4)\n",
            "Requirement already satisfied: idna<3,>=2.5 in /usr/local/lib/python3.7/dist-packages (from requests<3.0.0,>=2.13.0->spacy>=2.2.2->en_core_web_sm==2.2.5) (2.10)\n",
            "\u001b[38;5;2m✔ Download and installation successful\u001b[0m\n",
            "You can now load the model via spacy.load('en_core_web_sm')\n",
            "\u001b[38;5;2m✔ Linking successful\u001b[0m\n",
            "/usr/local/lib/python3.7/dist-packages/en_core_web_sm -->\n",
            "/usr/local/lib/python3.7/dist-packages/spacy/data/en\n",
            "You can now load the model via spacy.load('en')\n"
          ]
        }
      ],
      "source": [
        "#import statements\n",
        "import requests\n",
        "import re\n",
        "\n",
        "import datetime\n",
        "\n",
        "import os\n",
        "from os import listdir\n",
        "from os.path import isfile, join\n",
        "import zipfile\n",
        "import json\n",
        "\n",
        "import pandas as pd\n",
        "import numpy as np\n",
        "import matplotlib.pyplot as plt\n",
        "\n",
        "import gc # garbage collector\n",
        "\n",
        "import nltk\n",
        "nltk.download('punkt')\n",
        "nltk.download('stopwords')\n",
        "nltk.download('wordnet')\n",
        "from nltk.corpus import stopwords\n",
        "from nltk.stem import WordNetLemmatizer\n",
        "from nltk.corpus import wordnet\n",
        "\n",
        "import sys\n",
        "!{sys.executable} -m pip install spacy\n",
        "\n",
        "import spacy\n",
        "!{sys.executable} -m spacy download en\n",
        "\n",
        "from sklearn.model_selection import train_test_split\n",
        "from sklearn.feature_extraction.text import CountVectorizer\n",
        "from sklearn.naive_bayes import MultinomialNB\n",
        "\n",
        "import tensorflow as tf\n",
        "from tensorflow.keras.utils import to_categorical\n",
        "from keras.preprocessing.sequence import pad_sequences\n",
        "from keras.models import Sequential\n",
        "from keras.layers import LSTM, Dense, GRU, Embedding, GlobalAveragePooling1D\n",
        "from keras.callbacks import EarlyStopping, ModelCheckpoint\n",
        "from tensorflow.keras import datasets, layers, models\n",
        "from keras import losses\n",
        "from keras.preprocessing.text import Tokenizer\n",
        "\n",
        "#Torch\n",
        "import torch\n",
        "import torch.nn as nn\n",
        "import pandas as pd\n",
        "import numpy as np\n",
        "import re\n",
        "import spacy\n",
        "from collections import Counter\n",
        "from torch.utils.data import Dataset, DataLoader\n",
        "import torch.nn.functional as F\n",
        "import string\n",
        "from torch.nn.utils.rnn import pack_padded_sequence, pad_packed_sequence\n",
        "from sklearn.metrics import mean_squared_error\n"
      ],
      "id": "47cc185b"
    },
    {
      "cell_type": "code",
      "execution_count": 2,
      "metadata": {
        "colab": {
          "base_uri": "https://localhost:8080/"
        },
        "id": "06996021",
        "outputId": "13d39c12-6e91-4291-d784-e8e997970266",
        "scrolled": true
      },
      "outputs": [
        {
          "output_type": "stream",
          "name": "stdout",
          "text": [
            "nvdcve-1.1-2022.json.zip\n",
            "nvdcve-1.1-2021.json.zip\n",
            "nvdcve-1.1-2020.json.zip\n",
            "nvdcve-1.1-2019.json.zip\n",
            "nvdcve-1.1-2018.json.zip\n",
            "nvdcve-1.1-2017.json.zip\n",
            "nvdcve-1.1-2016.json.zip\n",
            "nvdcve-1.1-2015.json.zip\n",
            "nvdcve-1.1-2014.json.zip\n",
            "nvdcve-1.1-2013.json.zip\n",
            "nvdcve-1.1-2012.json.zip\n",
            "nvdcve-1.1-2011.json.zip\n",
            "nvdcve-1.1-2010.json.zip\n",
            "nvdcve-1.1-2009.json.zip\n",
            "nvdcve-1.1-2008.json.zip\n",
            "nvdcve-1.1-2007.json.zip\n",
            "nvdcve-1.1-2006.json.zip\n",
            "nvdcve-1.1-2005.json.zip\n",
            "nvdcve-1.1-2004.json.zip\n",
            "nvdcve-1.1-2003.json.zip\n",
            "nvdcve-1.1-2002.json.zip\n"
          ]
        }
      ],
      "source": [
        "#downloads all nvdcve-1.1-*.json.zip files\n",
        "r = requests.get('https://nvd.nist.gov/vuln/data-feeds')\n",
        "\n",
        "#https://nvd.nist.gov/feeds/json/cve/1.1/nvdcve-1.1-2021.json.zip\n",
        "\n",
        "for filename in re.findall(\"nvdcve-1\\.1-[0-9]*\\.json\\.zip\",r.text):\n",
        "    print(filename)\n",
        "    r_file = requests.get(\"https://nvd.nist.gov/feeds/json/cve/1.1/\" + filename, stream=True)\n",
        "    with open(filename, 'wb') as f:\n",
        "        for chunk in r_file:\n",
        "            f.write(chunk)"
      ],
      "id": "06996021"
    },
    {
      "cell_type": "code",
      "execution_count": 3,
      "metadata": {
        "id": "5c6d2884"
      },
      "outputs": [],
      "source": [
        "# unzips all files\n",
        "dir_name = './'\n",
        "extension = \".zip\"\n",
        "\n",
        "for item in os.listdir(dir_name): \n",
        "    if item.endswith(extension): \n",
        "        file_name = os.path.abspath(item)\n",
        "        zip_ref = zipfile.ZipFile(file_name)\n",
        "        zip_ref.extractall(dir_name)\n",
        "        zip_ref.close()\n",
        "        os.remove(file_name)\n",
        "        "
      ],
      "id": "5c6d2884"
    },
    {
      "cell_type": "code",
      "execution_count": 4,
      "metadata": {
        "colab": {
          "base_uri": "https://localhost:8080/"
        },
        "id": "903f1312",
        "outputId": "f6ff6add-4323-461f-f48b-dee426982051",
        "scrolled": true
      },
      "outputs": [
        {
          "output_type": "stream",
          "name": "stdout",
          "text": [
            "185600\n",
            "185600\n",
            "185600\n",
            "185600\n",
            "185600\n",
            "185600\n"
          ]
        }
      ],
      "source": [
        "# parses json files\n",
        "extension = \".json\"\n",
        "all_cves = []\n",
        "cveID = []\n",
        "description = []\n",
        "cvss3 = []\n",
        "vector3 = []\n",
        "severity = []\n",
        "year = []\n",
        "\n",
        "for item in sorted(os.listdir(dir_name)): \n",
        "    if item.endswith(extension): \n",
        "        file_name = os.path.abspath(item)\n",
        "        with open(file_name) as json_file:\n",
        "            cve_dict = json.loads(json_file.read())\n",
        "            all_cves = all_cves + cve_dict['CVE_Items']\n",
        "            json_file.close()\n",
        "\n",
        "for cves in all_cves:\n",
        "    cveID.append(cves['cve']['CVE_data_meta']['ID'])\n",
        "    year_p = cves['cve']['CVE_data_meta']['ID']\n",
        "    year_p = re.sub('^CVE-','',year_p)\n",
        "    year_p = re.sub('-\\d+$','',year_p)\n",
        "    year.append(year_p)\n",
        "    try:\n",
        "        desc=cves['cve']['description']['description_data']\n",
        "        desc=str(desc)\n",
        "        desc = desc[25:]\n",
        "        desc = desc[:len(desc)-2]\n",
        "        description.append(desc)\n",
        "    except:\n",
        "        description.append(\"\")\n",
        "    try:\n",
        "        cvss3.append(int(float(cves['impact']['baseMetricV3']['cvssV3']['baseScore'])*10))\n",
        "    except:\n",
        "        cvss3.append(int(0))\n",
        "    try:\n",
        "        vector3.append(cves['impact']['baseMetricV3']['cvssV3']['vectorString'])\n",
        "    except:\n",
        "        vector3.append(\"\")\n",
        "    try:\n",
        "        severity.append(cves['impact']['baseMetricV3']['cvssV3']['baseSeverity'])\n",
        "    except:\n",
        "        severity.append(\"\")\n",
        "        \n",
        "\n",
        "# control values\n",
        "print(len(cveID))\n",
        "print(len(description))\n",
        "print(len(cvss3))\n",
        "print(len(vector3))\n",
        "print(len(severity))\n",
        "print(len(year))"
      ],
      "id": "903f1312"
    },
    {
      "cell_type": "code",
      "execution_count": 5,
      "metadata": {
        "colab": {
          "base_uri": "https://localhost:8080/"
        },
        "id": "22953cc0",
        "outputId": "c4d5949d-0437-449a-82b0-0725e989d263",
        "scrolled": true
      },
      "outputs": [
        {
          "output_type": "stream",
          "name": "stdout",
          "text": [
            "(185600, 3)\n",
            "DESCRIPTION    object\n",
            "CVSS3_BASE      int64\n",
            "PROC_DESC      object\n",
            "dtype: object\n"
          ]
        }
      ],
      "source": [
        "# creates dataframe\n",
        "# because Colab crashed due to memory, only Description and CVSS score at this point added into dataframe\n",
        "\n",
        "#col_names=[\"CVE_ID\",\"YEAR\",\"DESCRIPTION\",\"CVSS3_BASE\",\"CVSS3_VECTOR\",\"SEVERITY\",\"PROC_DESC\"]\n",
        "col_names=[\"DESCRIPTION\",\"CVSS3_BASE\",\"PROC_DESC\"]\n",
        "nvd_df=pd.DataFrame(columns=col_names)\n",
        "#nvd_df.CVE_ID = cveID\n",
        "nvd_df.DESCRIPTION = description\n",
        "nvd_df.CVSS3_BASE = cvss3\n",
        "#nvd_df.CVSS3_VECTOR = vector3\n",
        "#nvd_df.SEVERITY = severity\n",
        "#nvd_df.YEAR = year\n",
        "#nvd_df.YEAR = pd.to_numeric(nvd_df.YEAR)\n",
        "\n",
        "print(nvd_df.shape)\n",
        "print(nvd_df.dtypes)"
      ],
      "id": "22953cc0"
    },
    {
      "cell_type": "code",
      "execution_count": 6,
      "metadata": {
        "colab": {
          "base_uri": "https://localhost:8080/",
          "height": 424
        },
        "id": "5980d215",
        "outputId": "39225e15-73b2-4b89-bef3-eaebf1017689",
        "scrolled": false
      },
      "outputs": [
        {
          "output_type": "execute_result",
          "data": {
            "text/plain": [
              "                                              DESCRIPTION  CVSS3_BASE  \\\n",
              "0       'ip_input.c in BSD-derived TCP/IP implementati...           0   \n",
              "1       'Buffer overflow in NFS mountd gives root acce...           0   \n",
              "2       'Execute commands as root via buffer overflow ...           0   \n",
              "3       'MIME buffer overflow in email clients, e.g. S...           0   \n",
              "4       'Arbitrary command execution via IMAP buffer o...           0   \n",
              "...                                                   ...         ...   \n",
              "185595  'USU Oracle Optimization before 5.17 allows au...           0   \n",
              "185596  'USU Oracle Optimization before 5.17.5 allows ...           0   \n",
              "185597  \"DJI drone devices sold in 2017 through 2022 b...           0   \n",
              "185598  'Woodpecker before 0.15.1 allows XSS via build...           0   \n",
              "185599  'static_compressed_inmemory_website_callback.c...           0   \n",
              "\n",
              "       PROC_DESC  \n",
              "0            NaN  \n",
              "1            NaN  \n",
              "2            NaN  \n",
              "3            NaN  \n",
              "4            NaN  \n",
              "...          ...  \n",
              "185595       NaN  \n",
              "185596       NaN  \n",
              "185597       NaN  \n",
              "185598       NaN  \n",
              "185599       NaN  \n",
              "\n",
              "[185600 rows x 3 columns]"
            ],
            "text/html": [
              "\n",
              "  <div id=\"df-1058f329-5289-4d47-86a1-48b6b255ed77\">\n",
              "    <div class=\"colab-df-container\">\n",
              "      <div>\n",
              "<style scoped>\n",
              "    .dataframe tbody tr th:only-of-type {\n",
              "        vertical-align: middle;\n",
              "    }\n",
              "\n",
              "    .dataframe tbody tr th {\n",
              "        vertical-align: top;\n",
              "    }\n",
              "\n",
              "    .dataframe thead th {\n",
              "        text-align: right;\n",
              "    }\n",
              "</style>\n",
              "<table border=\"1\" class=\"dataframe\">\n",
              "  <thead>\n",
              "    <tr style=\"text-align: right;\">\n",
              "      <th></th>\n",
              "      <th>DESCRIPTION</th>\n",
              "      <th>CVSS3_BASE</th>\n",
              "      <th>PROC_DESC</th>\n",
              "    </tr>\n",
              "  </thead>\n",
              "  <tbody>\n",
              "    <tr>\n",
              "      <th>0</th>\n",
              "      <td>'ip_input.c in BSD-derived TCP/IP implementati...</td>\n",
              "      <td>0</td>\n",
              "      <td>NaN</td>\n",
              "    </tr>\n",
              "    <tr>\n",
              "      <th>1</th>\n",
              "      <td>'Buffer overflow in NFS mountd gives root acce...</td>\n",
              "      <td>0</td>\n",
              "      <td>NaN</td>\n",
              "    </tr>\n",
              "    <tr>\n",
              "      <th>2</th>\n",
              "      <td>'Execute commands as root via buffer overflow ...</td>\n",
              "      <td>0</td>\n",
              "      <td>NaN</td>\n",
              "    </tr>\n",
              "    <tr>\n",
              "      <th>3</th>\n",
              "      <td>'MIME buffer overflow in email clients, e.g. S...</td>\n",
              "      <td>0</td>\n",
              "      <td>NaN</td>\n",
              "    </tr>\n",
              "    <tr>\n",
              "      <th>4</th>\n",
              "      <td>'Arbitrary command execution via IMAP buffer o...</td>\n",
              "      <td>0</td>\n",
              "      <td>NaN</td>\n",
              "    </tr>\n",
              "    <tr>\n",
              "      <th>...</th>\n",
              "      <td>...</td>\n",
              "      <td>...</td>\n",
              "      <td>...</td>\n",
              "    </tr>\n",
              "    <tr>\n",
              "      <th>185595</th>\n",
              "      <td>'USU Oracle Optimization before 5.17 allows au...</td>\n",
              "      <td>0</td>\n",
              "      <td>NaN</td>\n",
              "    </tr>\n",
              "    <tr>\n",
              "      <th>185596</th>\n",
              "      <td>'USU Oracle Optimization before 5.17.5 allows ...</td>\n",
              "      <td>0</td>\n",
              "      <td>NaN</td>\n",
              "    </tr>\n",
              "    <tr>\n",
              "      <th>185597</th>\n",
              "      <td>\"DJI drone devices sold in 2017 through 2022 b...</td>\n",
              "      <td>0</td>\n",
              "      <td>NaN</td>\n",
              "    </tr>\n",
              "    <tr>\n",
              "      <th>185598</th>\n",
              "      <td>'Woodpecker before 0.15.1 allows XSS via build...</td>\n",
              "      <td>0</td>\n",
              "      <td>NaN</td>\n",
              "    </tr>\n",
              "    <tr>\n",
              "      <th>185599</th>\n",
              "      <td>'static_compressed_inmemory_website_callback.c...</td>\n",
              "      <td>0</td>\n",
              "      <td>NaN</td>\n",
              "    </tr>\n",
              "  </tbody>\n",
              "</table>\n",
              "<p>185600 rows × 3 columns</p>\n",
              "</div>\n",
              "      <button class=\"colab-df-convert\" onclick=\"convertToInteractive('df-1058f329-5289-4d47-86a1-48b6b255ed77')\"\n",
              "              title=\"Convert this dataframe to an interactive table.\"\n",
              "              style=\"display:none;\">\n",
              "        \n",
              "  <svg xmlns=\"http://www.w3.org/2000/svg\" height=\"24px\"viewBox=\"0 0 24 24\"\n",
              "       width=\"24px\">\n",
              "    <path d=\"M0 0h24v24H0V0z\" fill=\"none\"/>\n",
              "    <path d=\"M18.56 5.44l.94 2.06.94-2.06 2.06-.94-2.06-.94-.94-2.06-.94 2.06-2.06.94zm-11 1L8.5 8.5l.94-2.06 2.06-.94-2.06-.94L8.5 2.5l-.94 2.06-2.06.94zm10 10l.94 2.06.94-2.06 2.06-.94-2.06-.94-.94-2.06-.94 2.06-2.06.94z\"/><path d=\"M17.41 7.96l-1.37-1.37c-.4-.4-.92-.59-1.43-.59-.52 0-1.04.2-1.43.59L10.3 9.45l-7.72 7.72c-.78.78-.78 2.05 0 2.83L4 21.41c.39.39.9.59 1.41.59.51 0 1.02-.2 1.41-.59l7.78-7.78 2.81-2.81c.8-.78.8-2.07 0-2.86zM5.41 20L4 18.59l7.72-7.72 1.47 1.35L5.41 20z\"/>\n",
              "  </svg>\n",
              "      </button>\n",
              "      \n",
              "  <style>\n",
              "    .colab-df-container {\n",
              "      display:flex;\n",
              "      flex-wrap:wrap;\n",
              "      gap: 12px;\n",
              "    }\n",
              "\n",
              "    .colab-df-convert {\n",
              "      background-color: #E8F0FE;\n",
              "      border: none;\n",
              "      border-radius: 50%;\n",
              "      cursor: pointer;\n",
              "      display: none;\n",
              "      fill: #1967D2;\n",
              "      height: 32px;\n",
              "      padding: 0 0 0 0;\n",
              "      width: 32px;\n",
              "    }\n",
              "\n",
              "    .colab-df-convert:hover {\n",
              "      background-color: #E2EBFA;\n",
              "      box-shadow: 0px 1px 2px rgba(60, 64, 67, 0.3), 0px 1px 3px 1px rgba(60, 64, 67, 0.15);\n",
              "      fill: #174EA6;\n",
              "    }\n",
              "\n",
              "    [theme=dark] .colab-df-convert {\n",
              "      background-color: #3B4455;\n",
              "      fill: #D2E3FC;\n",
              "    }\n",
              "\n",
              "    [theme=dark] .colab-df-convert:hover {\n",
              "      background-color: #434B5C;\n",
              "      box-shadow: 0px 1px 3px 1px rgba(0, 0, 0, 0.15);\n",
              "      filter: drop-shadow(0px 1px 2px rgba(0, 0, 0, 0.3));\n",
              "      fill: #FFFFFF;\n",
              "    }\n",
              "  </style>\n",
              "\n",
              "      <script>\n",
              "        const buttonEl =\n",
              "          document.querySelector('#df-1058f329-5289-4d47-86a1-48b6b255ed77 button.colab-df-convert');\n",
              "        buttonEl.style.display =\n",
              "          google.colab.kernel.accessAllowed ? 'block' : 'none';\n",
              "\n",
              "        async function convertToInteractive(key) {\n",
              "          const element = document.querySelector('#df-1058f329-5289-4d47-86a1-48b6b255ed77');\n",
              "          const dataTable =\n",
              "            await google.colab.kernel.invokeFunction('convertToInteractive',\n",
              "                                                     [key], {});\n",
              "          if (!dataTable) return;\n",
              "\n",
              "          const docLinkHtml = 'Like what you see? Visit the ' +\n",
              "            '<a target=\"_blank\" href=https://colab.research.google.com/notebooks/data_table.ipynb>data table notebook</a>'\n",
              "            + ' to learn more about interactive tables.';\n",
              "          element.innerHTML = '';\n",
              "          dataTable['output_type'] = 'display_data';\n",
              "          await google.colab.output.renderOutput(dataTable, element);\n",
              "          const docLink = document.createElement('div');\n",
              "          docLink.innerHTML = docLinkHtml;\n",
              "          element.appendChild(docLink);\n",
              "        }\n",
              "      </script>\n",
              "    </div>\n",
              "  </div>\n",
              "  "
            ]
          },
          "metadata": {},
          "execution_count": 6
        }
      ],
      "source": [
        "#verifies parsing\n",
        "nvd_df"
      ],
      "id": "5980d215"
    },
    {
      "cell_type": "code",
      "execution_count": 7,
      "metadata": {
        "colab": {
          "base_uri": "https://localhost:8080/"
        },
        "id": "vPCDnAzhX9FV",
        "outputId": "7f28885c-a1ee-4da3-b661-2215a507f793"
      },
      "outputs": [
        {
          "output_type": "stream",
          "name": "stdout",
          "text": [
            "Data with CVSS3 (101215, 3)\n"
          ]
        }
      ],
      "source": [
        "# removes rows with no CVSS score\n",
        "nvd_df = nvd_df[nvd_df.CVSS3_BASE!=0.0]\n",
        "print(\"Data with CVSS3\",nvd_df.shape)"
      ],
      "id": "vPCDnAzhX9FV"
    },
    {
      "cell_type": "code",
      "execution_count": 8,
      "metadata": {
        "colab": {
          "base_uri": "https://localhost:8080/",
          "height": 350
        },
        "id": "y8jifrko_jXF",
        "outputId": "1d428948-74ea-4024-d489-89d0aaef91c9"
      },
      "outputs": [
        {
          "output_type": "display_data",
          "data": {
            "text/plain": [
              "<Figure size 576x360 with 1 Axes>"
            ],
            "image/png": "[encoded data removed]"
          },
          "metadata": {
            "needs_background": "light"
          }
        }
      ],
      "source": [
        "#Plots disctribution of CVE CVSS3.0 scores in residual dataframe\n",
        "plt.figure(figsize = [8,5])\n",
        "plt.hist(nvd_df.CVSS3_BASE,rwidth = 0.75, bins = 50)\n",
        "plt.xlabel(\"CVSS score\")\n",
        "plt.ylabel(\"Count\")\n",
        "plt.title(\"CVSS scores distribution\")\n",
        "\n",
        "plt.show()"
      ],
      "id": "y8jifrko_jXF"
    },
    {
      "cell_type": "code",
      "execution_count": 9,
      "metadata": {
        "colab": {
          "base_uri": "https://localhost:8080/"
        },
        "id": "35ff6c46",
        "outputId": "04d6e7b8-d24c-4b1a-d7c5-82f346c530f0",
        "scrolled": true
      },
      "outputs": [
        {
          "output_type": "execute_result",
          "data": {
            "text/plain": [
              "5916"
            ]
          },
          "metadata": {},
          "execution_count": 9
        }
      ],
      "source": [
        "# cleans up RAM as runtime crushed on Neural Network model due to lack of RAM\n",
        "del all_cves\n",
        "del cveID\n",
        "del description\n",
        "del cvss3\n",
        "del vector3\n",
        "del severity\n",
        "del year\n",
        "gc.collect()"
      ],
      "id": "35ff6c46"
    },
    {
      "cell_type": "code",
      "execution_count": 10,
      "metadata": {
        "colab": {
          "base_uri": "https://localhost:8080/",
          "height": 567
        },
        "id": "5b187d17",
        "outputId": "220d14dd-257c-42de-8e06-8d908bd4fe11",
        "scrolled": true
      },
      "outputs": [
        {
          "output_type": "stream",
          "name": "stdout",
          "text": [
            "Current date and time :  2022-05-02 18:06:25\n",
            "Current date and time :  2022-05-02 18:14:13\n"
          ]
        },
        {
          "output_type": "stream",
          "name": "stderr",
          "text": [
            "/usr/local/lib/python3.7/dist-packages/pandas/core/generic.py:5516: SettingWithCopyWarning: \n",
            "A value is trying to be set on a copy of a slice from a DataFrame.\n",
            "Try using .loc[row_indexer,col_indexer] = value instead\n",
            "\n",
            "See the caveats in the documentation: https://pandas.pydata.org/pandas-docs/stable/user_guide/indexing.html#returning-a-view-versus-a-copy\n",
            "  self[name] = value\n"
          ]
        },
        {
          "output_type": "execute_result",
          "data": {
            "text/plain": [
              "                                              DESCRIPTION  CVSS3_BASE  \\\n",
              "198     \"manual/search.texi in the GNU C Library (aka ...          98   \n",
              "235     'ScriptAlias directory in NCSA and Apache http...          75   \n",
              "1836    'IIS 4.0 and 5.0 allows remote attackers to ca...          75   \n",
              "2820    'crypto/rsa/rsa_gen.c in OpenSSL before 0.9.6 ...          75   \n",
              "6322    'The Diffie-Hellman Key Agreement Protocol all...          75   \n",
              "...                                                   ...         ...   \n",
              "185551  'An issue was discovered in MISP before 2.4.15...          54   \n",
              "185552  'An issue was discovered in MISP before 2.4.15...          48   \n",
              "185553  'An issue was discovered in MISP before 2.4.15...          61   \n",
              "185554  'An issue was discovered in MISP before 2.4.15...          75   \n",
              "185568  'Crypt Server before 3.3.0 allows XSS in the i...          61   \n",
              "\n",
              "                                                PROC_DESC  \n",
              "198     manualsearch.texi gnu c library glibc 2.2 lack...  \n",
              "235     scriptalias directory ncsa apache httpd allow ...  \n",
              "1836    iis 4.0 5.0 allow remote attacker cause denial...  \n",
              "2820    cryptorsarsagen.c openssl 0.9.6 mishandle c bi...  \n",
              "6322    diffie hellman key agreement protocol allow re...  \n",
              "...                                                   ...  \n",
              "185551  issue discover misp 2.4.158 store xss event gr...  \n",
              "185552  issue discover misp 2.4.158 xss cerebrate view...  \n",
              "185553  issue discover misp 2.4.158 xss appcontrollero...  \n",
              "185554  issue discover misp 2.4.158 userscontroller.ph...  \n",
              "185568  crypt server 3.3.0 allow xss index view relate...  \n",
              "\n",
              "[101215 rows x 3 columns]"
            ],
            "text/html": [
              "\n",
              "  <div id=\"df-e42233de-66c9-4da9-9818-9cc4e9d17485\">\n",
              "    <div class=\"colab-df-container\">\n",
              "      <div>\n",
              "<style scoped>\n",
              "    .dataframe tbody tr th:only-of-type {\n",
              "        vertical-align: middle;\n",
              "    }\n",
              "\n",
              "    .dataframe tbody tr th {\n",
              "        vertical-align: top;\n",
              "    }\n",
              "\n",
              "    .dataframe thead th {\n",
              "        text-align: right;\n",
              "    }\n",
              "</style>\n",
              "<table border=\"1\" class=\"dataframe\">\n",
              "  <thead>\n",
              "    <tr style=\"text-align: right;\">\n",
              "      <th></th>\n",
              "      <th>DESCRIPTION</th>\n",
              "      <th>CVSS3_BASE</th>\n",
              "      <th>PROC_DESC</th>\n",
              "    </tr>\n",
              "  </thead>\n",
              "  <tbody>\n",
              "    <tr>\n",
              "      <th>198</th>\n",
              "      <td>\"manual/search.texi in the GNU C Library (aka ...</td>\n",
              "      <td>98</td>\n",
              "      <td>manualsearch.texi gnu c library glibc 2.2 lack...</td>\n",
              "    </tr>\n",
              "    <tr>\n",
              "      <th>235</th>\n",
              "      <td>'ScriptAlias directory in NCSA and Apache http...</td>\n",
              "      <td>75</td>\n",
              "      <td>scriptalias directory ncsa apache httpd allow ...</td>\n",
              "    </tr>\n",
              "    <tr>\n",
              "      <th>1836</th>\n",
              "      <td>'IIS 4.0 and 5.0 allows remote attackers to ca...</td>\n",
              "      <td>75</td>\n",
              "      <td>iis 4.0 5.0 allow remote attacker cause denial...</td>\n",
              "    </tr>\n",
              "    <tr>\n",
              "      <th>2820</th>\n",
              "      <td>'crypto/rsa/rsa_gen.c in OpenSSL before 0.9.6 ...</td>\n",
              "      <td>75</td>\n",
              "      <td>cryptorsarsagen.c openssl 0.9.6 mishandle c bi...</td>\n",
              "    </tr>\n",
              "    <tr>\n",
              "      <th>6322</th>\n",
              "      <td>'The Diffie-Hellman Key Agreement Protocol all...</td>\n",
              "      <td>75</td>\n",
              "      <td>diffie hellman key agreement protocol allow re...</td>\n",
              "    </tr>\n",
              "    <tr>\n",
              "      <th>...</th>\n",
              "      <td>...</td>\n",
              "      <td>...</td>\n",
              "      <td>...</td>\n",
              "    </tr>\n",
              "    <tr>\n",
              "      <th>185551</th>\n",
              "      <td>'An issue was discovered in MISP before 2.4.15...</td>\n",
              "      <td>54</td>\n",
              "      <td>issue discover misp 2.4.158 store xss event gr...</td>\n",
              "    </tr>\n",
              "    <tr>\n",
              "      <th>185552</th>\n",
              "      <td>'An issue was discovered in MISP before 2.4.15...</td>\n",
              "      <td>48</td>\n",
              "      <td>issue discover misp 2.4.158 xss cerebrate view...</td>\n",
              "    </tr>\n",
              "    <tr>\n",
              "      <th>185553</th>\n",
              "      <td>'An issue was discovered in MISP before 2.4.15...</td>\n",
              "      <td>61</td>\n",
              "      <td>issue discover misp 2.4.158 xss appcontrollero...</td>\n",
              "    </tr>\n",
              "    <tr>\n",
              "      <th>185554</th>\n",
              "      <td>'An issue was discovered in MISP before 2.4.15...</td>\n",
              "      <td>75</td>\n",
              "      <td>issue discover misp 2.4.158 userscontroller.ph...</td>\n",
              "    </tr>\n",
              "    <tr>\n",
              "      <th>185568</th>\n",
              "      <td>'Crypt Server before 3.3.0 allows XSS in the i...</td>\n",
              "      <td>61</td>\n",
              "      <td>crypt server 3.3.0 allow xss index view relate...</td>\n",
              "    </tr>\n",
              "  </tbody>\n",
              "</table>\n",
              "<p>101215 rows × 3 columns</p>\n",
              "</div>\n",
              "      <button class=\"colab-df-convert\" onclick=\"convertToInteractive('df-e42233de-66c9-4da9-9818-9cc4e9d17485')\"\n",
              "              title=\"Convert this dataframe to an interactive table.\"\n",
              "              style=\"display:none;\">\n",
              "        \n",
              "  <svg xmlns=\"http://www.w3.org/2000/svg\" height=\"24px\"viewBox=\"0 0 24 24\"\n",
              "       width=\"24px\">\n",
              "    <path d=\"M0 0h24v24H0V0z\" fill=\"none\"/>\n",
              "    <path d=\"M18.56 5.44l.94 2.06.94-2.06 2.06-.94-2.06-.94-.94-2.06-.94 2.06-2.06.94zm-11 1L8.5 8.5l.94-2.06 2.06-.94-2.06-.94L8.5 2.5l-.94 2.06-2.06.94zm10 10l.94 2.06.94-2.06 2.06-.94-2.06-.94-.94-2.06-.94 2.06-2.06.94z\"/><path d=\"M17.41 7.96l-1.37-1.37c-.4-.4-.92-.59-1.43-.59-.52 0-1.04.2-1.43.59L10.3 9.45l-7.72 7.72c-.78.78-.78 2.05 0 2.83L4 21.41c.39.39.9.59 1.41.59.51 0 1.02-.2 1.41-.59l7.78-7.78 2.81-2.81c.8-.78.8-2.07 0-2.86zM5.41 20L4 18.59l7.72-7.72 1.47 1.35L5.41 20z\"/>\n",
              "  </svg>\n",
              "      </button>\n",
              "      \n",
              "  <style>\n",
              "    .colab-df-container {\n",
              "      display:flex;\n",
              "      flex-wrap:wrap;\n",
              "      gap: 12px;\n",
              "    }\n",
              "\n",
              "    .colab-df-convert {\n",
              "      background-color: #E8F0FE;\n",
              "      border: none;\n",
              "      border-radius: 50%;\n",
              "      cursor: pointer;\n",
              "      display: none;\n",
              "      fill: #1967D2;\n",
              "      height: 32px;\n",
              "      padding: 0 0 0 0;\n",
              "      width: 32px;\n",
              "    }\n",
              "\n",
              "    .colab-df-convert:hover {\n",
              "      background-color: #E2EBFA;\n",
              "      box-shadow: 0px 1px 2px rgba(60, 64, 67, 0.3), 0px 1px 3px 1px rgba(60, 64, 67, 0.15);\n",
              "      fill: #174EA6;\n",
              "    }\n",
              "\n",
              "    [theme=dark] .colab-df-convert {\n",
              "      background-color: #3B4455;\n",
              "      fill: #D2E3FC;\n",
              "    }\n",
              "\n",
              "    [theme=dark] .colab-df-convert:hover {\n",
              "      background-color: #434B5C;\n",
              "      box-shadow: 0px 1px 3px 1px rgba(0, 0, 0, 0.15);\n",
              "      filter: drop-shadow(0px 1px 2px rgba(0, 0, 0, 0.3));\n",
              "      fill: #FFFFFF;\n",
              "    }\n",
              "  </style>\n",
              "\n",
              "      <script>\n",
              "        const buttonEl =\n",
              "          document.querySelector('#df-e42233de-66c9-4da9-9818-9cc4e9d17485 button.colab-df-convert');\n",
              "        buttonEl.style.display =\n",
              "          google.colab.kernel.accessAllowed ? 'block' : 'none';\n",
              "\n",
              "        async function convertToInteractive(key) {\n",
              "          const element = document.querySelector('#df-e42233de-66c9-4da9-9818-9cc4e9d17485');\n",
              "          const dataTable =\n",
              "            await google.colab.kernel.invokeFunction('convertToInteractive',\n",
              "                                                     [key], {});\n",
              "          if (!dataTable) return;\n",
              "\n",
              "          const docLinkHtml = 'Like what you see? Visit the ' +\n",
              "            '<a target=\"_blank\" href=https://colab.research.google.com/notebooks/data_table.ipynb>data table notebook</a>'\n",
              "            + ' to learn more about interactive tables.';\n",
              "          element.innerHTML = '';\n",
              "          dataTable['output_type'] = 'display_data';\n",
              "          await google.colab.output.renderOutput(dataTable, element);\n",
              "          const docLink = document.createElement('div');\n",
              "          docLink.innerHTML = docLinkHtml;\n",
              "          element.appendChild(docLink);\n",
              "        }\n",
              "      </script>\n",
              "    </div>\n",
              "  </div>\n",
              "  "
            ]
          },
          "metadata": {},
          "execution_count": 10
        }
      ],
      "source": [
        "# preprocessing descriptions: remove punctuation, convert to lower case, remove stop words, lemmatization, replaces synonyms\n",
        "now = datetime.datetime.now()\n",
        "print (\"Current date and time : \",now.strftime(\"%Y-%m-%d %H:%M:%S\"))\n",
        "\n",
        "en_stopwords = set(stopwords.words('english'))\n",
        "add_stopwords = ['aka','-','.',' ','  ','      ','via','','-PRON-'] #,'allow','vulnerability','attacker'\n",
        "\n",
        "def remove_punc(text_string):\n",
        "    tmp=re.sub('[^a-zA-Z0-9 \\.-]', '', text_string.lower())\n",
        "    tmp=re.sub('^ ',\"\",tmp)\n",
        "    return re.sub('\\.$','',tmp)\n",
        "\n",
        "def remove_stopwords(text_string):\n",
        "    tmp = []\n",
        "    for token in text_string.split(' '):\n",
        "      if token not in en_stopwords:\n",
        "        if token not in add_stopwords:\n",
        "          tmp.append(token)\n",
        "    return \" \".join([token for token in tmp])\n",
        "\n",
        "proc_str = []\n",
        "\n",
        "nlp = spacy.load('en', disable=['parser', 'ner'])\n",
        "\n",
        "def spacy_lemma(text_string):\n",
        "    doc = nlp(text_string)\n",
        "    return \" \".join([token.lemma_ for token in doc])\n",
        "\n",
        "def syn_replace(text_string):\n",
        "    synonyms = []\n",
        "    for syn in wordnet.synsets(text_string):\n",
        "          for l in syn.lemmas():\n",
        "               synonyms.append(l.name())\n",
        "    #print(synonyms)\n",
        "    return \" \".join(synonyms)\n",
        "\n",
        "for desc in nvd_df.DESCRIPTION:\n",
        "    punct = remove_punc(desc)\n",
        "    lemmas = spacy_lemma(punct)\n",
        "    clean = remove_stopwords(lemmas)\n",
        "    #syn = syn_replace(clean)\n",
        "    proc_str.append(clean)\n",
        "\n",
        "nvd_df.PROC_DESC = proc_str\n",
        "\n",
        "now = datetime.datetime.now()\n",
        "now = datetime.datetime.now()\n",
        "print (\"Current date and time : \",now.strftime(\"%Y-%m-%d %H:%M:%S\"))\n",
        "\n",
        "nvd_df"
      ],
      "id": "5b187d17"
    },
    {
      "cell_type": "code",
      "execution_count": 11,
      "metadata": {
        "colab": {
          "base_uri": "https://localhost:8080/"
        },
        "id": "rMY41DI_APCF",
        "outputId": "4a3ef3b5-d710-4731-da3c-215039236a75"
      },
      "outputs": [
        {
          "output_type": "stream",
          "name": "stdout",
          "text": [
            "557\n"
          ]
        }
      ],
      "source": [
        "# determine max description length\n",
        "m = []\n",
        "\n",
        "for item in nvd_df.PROC_DESC:\n",
        "  i = 0\n",
        "  for token in item.split(' '):\n",
        "    if token != ' ':\n",
        "      i=i+1\n",
        "  m.append(i)\n",
        "\n",
        "max = 0\n",
        "\n",
        "for n in m:\n",
        "  if n>max:\n",
        "    max=n\n",
        "\n",
        "\n",
        "print(max)\n"
      ],
      "id": "rMY41DI_APCF"
    },
    {
      "cell_type": "code",
      "execution_count": 12,
      "metadata": {
        "colab": {
          "base_uri": "https://localhost:8080/",
          "height": 406
        },
        "id": "j6ucjdRdeGv8",
        "outputId": "9f308f50-5977-4057-b6ee-44349aaf57f8"
      },
      "outputs": [
        {
          "output_type": "display_data",
          "data": {
            "text/plain": [
              "<Figure size 432x288 with 1 Axes>"
            ],
            "image/png": "[encoded data removed]"
          },
          "metadata": {
            "needs_background": "light"
          }
        },
        {
          "output_type": "stream",
          "name": "stdout",
          "text": [
            "Most common: [('vulnerability', 70533), ('attacker', 55629), ('allow', 54704), ('version', 38868), ('user', 35648), ('remote', 28126), ('could', 25186), ('code', 24148), ('access', 23845), ('file', 23500), ('arbitrary', 21141), ('service', 20591), ('issue', 20552), ('use', 18300), ('server', 18216), ('affect', 17325), ('prior', 16942), ('cause', 16554), ('craft', 16371), ('execute', 15623), ('privilege', 14788), ('attack', 14322), ('oracle', 14002), ('denial', 13790), ('device', 13347)] \n",
            "\n",
            "133633\n"
          ]
        }
      ],
      "source": [
        "# counts words frequency\n",
        "\n",
        "words = {}\n",
        "\n",
        "for item in nvd_df.PROC_DESC:\n",
        "  for token in item.split(' '):\n",
        "    if token != ' ':\n",
        "      try:\n",
        "        words[token] = words[token] + 1\n",
        "      except:\n",
        "        words[token] = 1\n",
        "\n",
        "freq=nltk.FreqDist()\n",
        "freq.update(words)\n",
        "freq.plot(25,cumulative=False)\n",
        "print(\"Most common:\",freq.most_common(25),\"\\n\")\n",
        "print(len(words))\n"
      ],
      "id": "j6ucjdRdeGv8"
    },
    {
      "cell_type": "code",
      "execution_count": 13,
      "metadata": {
        "colab": {
          "base_uri": "https://localhost:8080/"
        },
        "id": "pzu-KFy7DsdO",
        "outputId": "1034793f-1a48-46ef-d4b0-ea1a75c35fbd"
      },
      "outputs": [
        {
          "output_type": "stream",
          "name": "stdout",
          "text": [
            "19693\n"
          ]
        }
      ],
      "source": [
        "# Creates corpus (vocabulary).\n",
        "corpus = []\n",
        "\n",
        "for key,val in freq.most_common():\n",
        "    if val > 5: \n",
        "        corpus.append(key)\n",
        "\n",
        "print(len(corpus))\n"
      ],
      "id": "pzu-KFy7DsdO"
    },
    {
      "cell_type": "markdown",
      "source": [
        "https://towardsdatascience.com/multiclass-text-classification-using-lstm-in-pytorch-eac56baed8df"
      ],
      "metadata": {
        "id": "fVoArZ8POC7s"
      },
      "id": "fVoArZ8POC7s"
    },
    {
      "cell_type": "code",
      "execution_count": 14,
      "metadata": {
        "id": "ewhvEqIKcsto"
      },
      "outputs": [],
      "source": [
        "# tokenization procedure with use of spacy.\n",
        "tok = spacy.load('en')\n",
        "def tokenize (text):\n",
        "    return [token.text for token in tok.tokenizer(text)]"
      ],
      "id": "ewhvEqIKcsto"
    },
    {
      "cell_type": "code",
      "execution_count": 15,
      "metadata": {
        "id": "ukfKJ0QFc7xs"
      },
      "outputs": [],
      "source": [
        "#counts number of occurences of each word\n",
        "counts = Counter()\n",
        "for index, row in nvd_df.iterrows():\n",
        "    counts.update(tokenize(row['PROC_DESC']))"
      ],
      "id": "ukfKJ0QFc7xs"
    },
    {
      "cell_type": "code",
      "execution_count": 16,
      "metadata": {
        "colab": {
          "base_uri": "https://localhost:8080/"
        },
        "id": "O3U_9K8Ec_25",
        "outputId": "96700ecb-2dc7-4bb8-9a54-abb60f3e3987"
      },
      "outputs": [
        {
          "output_type": "stream",
          "name": "stdout",
          "text": [
            "Number of words (total): 133627\n",
            "Number of words after removing words with count <= 6 : 19696\n"
          ]
        }
      ],
      "source": [
        "#deletes words that occure in all descriptions less than 5 times\n",
        "c = 6\n",
        "print(\"Number of words (total):\",len(counts.keys()))\n",
        "for word in list(counts):\n",
        "    if counts[word] < c:\n",
        "        del counts[word]\n",
        "print(\"Number of words after removing words with count <=\",c,\":\",len(counts.keys()))"
      ],
      "id": "O3U_9K8Ec_25"
    },
    {
      "cell_type": "code",
      "execution_count": 17,
      "metadata": {
        "id": "E8TUH3F2dW3U"
      },
      "outputs": [],
      "source": [
        "#creates vocabulary\n",
        "vocab2index = {\"\":0, \"UNK\":1}\n",
        "words = [\"\", \"UNK\"]\n",
        "for word in counts:\n",
        "    vocab2index[word] = len(words)\n",
        "    words.append(word)"
      ],
      "id": "E8TUH3F2dW3U"
    },
    {
      "cell_type": "code",
      "execution_count": 18,
      "metadata": {
        "id": "3NvmV6YJei4M"
      },
      "outputs": [],
      "source": [
        "#procedure for words encoding\n",
        "def encode_sentence(text, vocab2index, N=70):\n",
        "    tokenized = tokenize(text)\n",
        "    encoded = np.zeros(N, dtype=int)\n",
        "    enc1 = np.array([vocab2index.get(word, vocab2index[\"UNK\"]) for word in tokenized])\n",
        "    length = min(N, len(enc1))\n",
        "    encoded[:length] = enc1[:length]\n",
        "    return encoded, length"
      ],
      "id": "3NvmV6YJei4M"
    },
    {
      "cell_type": "code",
      "execution_count": 19,
      "metadata": {
        "colab": {
          "base_uri": "https://localhost:8080/",
          "height": 369
        },
        "id": "IpG_QVg1eka4",
        "outputId": "d2869892-df91-485e-fb38-926dc25b75dc"
      },
      "outputs": [
        {
          "output_type": "stream",
          "name": "stderr",
          "text": [
            "/usr/local/lib/python3.7/dist-packages/ipykernel_launcher.py:2: VisibleDeprecationWarning: Creating an ndarray from ragged nested sequences (which is a list-or-tuple of lists-or-tuples-or ndarrays with different lengths or shapes) is deprecated. If you meant to do this, you must specify 'dtype=object' when creating the ndarray.\n",
            "  \n",
            "/usr/local/lib/python3.7/dist-packages/pandas/core/generic.py:5516: SettingWithCopyWarning: \n",
            "A value is trying to be set on a copy of a slice from a DataFrame.\n",
            "Try using .loc[row_indexer,col_indexer] = value instead\n",
            "\n",
            "See the caveats in the documentation: https://pandas.pydata.org/pandas-docs/stable/user_guide/indexing.html#returning-a-view-versus-a-copy\n",
            "  self[name] = value\n"
          ]
        },
        {
          "output_type": "execute_result",
          "data": {
            "text/plain": [
              "                                            DESCRIPTION  CVSS3_BASE  \\\n",
              "198   \"manual/search.texi in the GNU C Library (aka ...          98   \n",
              "235   'ScriptAlias directory in NCSA and Apache http...          75   \n",
              "1836  'IIS 4.0 and 5.0 allows remote attackers to ca...          75   \n",
              "2820  'crypto/rsa/rsa_gen.c in OpenSSL before 0.9.6 ...          75   \n",
              "6322  'The Diffie-Hellman Key Agreement Protocol all...          75   \n",
              "\n",
              "                                              PROC_DESC  \n",
              "198   [[1, 2, 3, 4, 5, 6, 7, 8, 9, 1, 10, 11, 12, 13...  \n",
              "235   [[1, 27, 1, 28, 29, 17, 18, 30, 31, 32, 0, 0, ...  \n",
              "1836  [[33, 34, 35, 17, 36, 18, 37, 38, 39, 40, 41, ...  \n",
              "2820  [[1, 48, 49, 50, 3, 1, 51, 52, 53, 54, 55, 56,...  \n",
              "6322  [[71, 72, 65, 73, 74, 17, 36, 18, 75, 76, 40, ...  "
            ],
            "text/html": [
              "\n",
              "  <div id=\"df-86b2d75d-5f78-4953-b95f-ad15af8712f6\">\n",
              "    <div class=\"colab-df-container\">\n",
              "      <div>\n",
              "<style scoped>\n",
              "    .dataframe tbody tr th:only-of-type {\n",
              "        vertical-align: middle;\n",
              "    }\n",
              "\n",
              "    .dataframe tbody tr th {\n",
              "        vertical-align: top;\n",
              "    }\n",
              "\n",
              "    .dataframe thead th {\n",
              "        text-align: right;\n",
              "    }\n",
              "</style>\n",
              "<table border=\"1\" class=\"dataframe\">\n",
              "  <thead>\n",
              "    <tr style=\"text-align: right;\">\n",
              "      <th></th>\n",
              "      <th>DESCRIPTION</th>\n",
              "      <th>CVSS3_BASE</th>\n",
              "      <th>PROC_DESC</th>\n",
              "    </tr>\n",
              "  </thead>\n",
              "  <tbody>\n",
              "    <tr>\n",
              "      <th>198</th>\n",
              "      <td>\"manual/search.texi in the GNU C Library (aka ...</td>\n",
              "      <td>98</td>\n",
              "      <td>[[1, 2, 3, 4, 5, 6, 7, 8, 9, 1, 10, 11, 12, 13...</td>\n",
              "    </tr>\n",
              "    <tr>\n",
              "      <th>235</th>\n",
              "      <td>'ScriptAlias directory in NCSA and Apache http...</td>\n",
              "      <td>75</td>\n",
              "      <td>[[1, 27, 1, 28, 29, 17, 18, 30, 31, 32, 0, 0, ...</td>\n",
              "    </tr>\n",
              "    <tr>\n",
              "      <th>1836</th>\n",
              "      <td>'IIS 4.0 and 5.0 allows remote attackers to ca...</td>\n",
              "      <td>75</td>\n",
              "      <td>[[33, 34, 35, 17, 36, 18, 37, 38, 39, 40, 41, ...</td>\n",
              "    </tr>\n",
              "    <tr>\n",
              "      <th>2820</th>\n",
              "      <td>'crypto/rsa/rsa_gen.c in OpenSSL before 0.9.6 ...</td>\n",
              "      <td>75</td>\n",
              "      <td>[[1, 48, 49, 50, 3, 1, 51, 52, 53, 54, 55, 56,...</td>\n",
              "    </tr>\n",
              "    <tr>\n",
              "      <th>6322</th>\n",
              "      <td>'The Diffie-Hellman Key Agreement Protocol all...</td>\n",
              "      <td>75</td>\n",
              "      <td>[[71, 72, 65, 73, 74, 17, 36, 18, 75, 76, 40, ...</td>\n",
              "    </tr>\n",
              "  </tbody>\n",
              "</table>\n",
              "</div>\n",
              "      <button class=\"colab-df-convert\" onclick=\"convertToInteractive('df-86b2d75d-5f78-4953-b95f-ad15af8712f6')\"\n",
              "              title=\"Convert this dataframe to an interactive table.\"\n",
              "              style=\"display:none;\">\n",
              "        \n",
              "  <svg xmlns=\"http://www.w3.org/2000/svg\" height=\"24px\"viewBox=\"0 0 24 24\"\n",
              "       width=\"24px\">\n",
              "    <path d=\"M0 0h24v24H0V0z\" fill=\"none\"/>\n",
              "    <path d=\"M18.56 5.44l.94 2.06.94-2.06 2.06-.94-2.06-.94-.94-2.06-.94 2.06-2.06.94zm-11 1L8.5 8.5l.94-2.06 2.06-.94-2.06-.94L8.5 2.5l-.94 2.06-2.06.94zm10 10l.94 2.06.94-2.06 2.06-.94-2.06-.94-.94-2.06-.94 2.06-2.06.94z\"/><path d=\"M17.41 7.96l-1.37-1.37c-.4-.4-.92-.59-1.43-.59-.52 0-1.04.2-1.43.59L10.3 9.45l-7.72 7.72c-.78.78-.78 2.05 0 2.83L4 21.41c.39.39.9.59 1.41.59.51 0 1.02-.2 1.41-.59l7.78-7.78 2.81-2.81c.8-.78.8-2.07 0-2.86zM5.41 20L4 18.59l7.72-7.72 1.47 1.35L5.41 20z\"/>\n",
              "  </svg>\n",
              "      </button>\n",
              "      \n",
              "  <style>\n",
              "    .colab-df-container {\n",
              "      display:flex;\n",
              "      flex-wrap:wrap;\n",
              "      gap: 12px;\n",
              "    }\n",
              "\n",
              "    .colab-df-convert {\n",
              "      background-color: #E8F0FE;\n",
              "      border: none;\n",
              "      border-radius: 50%;\n",
              "      cursor: pointer;\n",
              "      display: none;\n",
              "      fill: #1967D2;\n",
              "      height: 32px;\n",
              "      padding: 0 0 0 0;\n",
              "      width: 32px;\n",
              "    }\n",
              "\n",
              "    .colab-df-convert:hover {\n",
              "      background-color: #E2EBFA;\n",
              "      box-shadow: 0px 1px 2px rgba(60, 64, 67, 0.3), 0px 1px 3px 1px rgba(60, 64, 67, 0.15);\n",
              "      fill: #174EA6;\n",
              "    }\n",
              "\n",
              "    [theme=dark] .colab-df-convert {\n",
              "      background-color: #3B4455;\n",
              "      fill: #D2E3FC;\n",
              "    }\n",
              "\n",
              "    [theme=dark] .colab-df-convert:hover {\n",
              "      background-color: #434B5C;\n",
              "      box-shadow: 0px 1px 3px 1px rgba(0, 0, 0, 0.15);\n",
              "      filter: drop-shadow(0px 1px 2px rgba(0, 0, 0, 0.3));\n",
              "      fill: #FFFFFF;\n",
              "    }\n",
              "  </style>\n",
              "\n",
              "      <script>\n",
              "        const buttonEl =\n",
              "          document.querySelector('#df-86b2d75d-5f78-4953-b95f-ad15af8712f6 button.colab-df-convert');\n",
              "        buttonEl.style.display =\n",
              "          google.colab.kernel.accessAllowed ? 'block' : 'none';\n",
              "\n",
              "        async function convertToInteractive(key) {\n",
              "          const element = document.querySelector('#df-86b2d75d-5f78-4953-b95f-ad15af8712f6');\n",
              "          const dataTable =\n",
              "            await google.colab.kernel.invokeFunction('convertToInteractive',\n",
              "                                                     [key], {});\n",
              "          if (!dataTable) return;\n",
              "\n",
              "          const docLinkHtml = 'Like what you see? Visit the ' +\n",
              "            '<a target=\"_blank\" href=https://colab.research.google.com/notebooks/data_table.ipynb>data table notebook</a>'\n",
              "            + ' to learn more about interactive tables.';\n",
              "          element.innerHTML = '';\n",
              "          dataTable['output_type'] = 'display_data';\n",
              "          await google.colab.output.renderOutput(dataTable, element);\n",
              "          const docLink = document.createElement('div');\n",
              "          docLink.innerHTML = docLinkHtml;\n",
              "          element.appendChild(docLink);\n",
              "        }\n",
              "      </script>\n",
              "    </div>\n",
              "  </div>\n",
              "  "
            ]
          },
          "metadata": {},
          "execution_count": 19
        }
      ],
      "source": [
        "# encodes sentence (description) into a list of numbers\n",
        "nvd_df.PROC_DESC = nvd_df.PROC_DESC.apply(lambda x: np.array(encode_sentence(x,vocab2index )))\n",
        "nvd_df.head()"
      ],
      "id": "IpG_QVg1eka4"
    },
    {
      "cell_type": "code",
      "execution_count": 21,
      "metadata": {
        "id": "dP1VFvL6jIbj"
      },
      "outputs": [],
      "source": [
        "# splits dataframe into train and test\n",
        "\n",
        "X = nvd_df.PROC_DESC\n",
        "Y = nvd_df.CVSS3_BASE\n",
        "from sklearn.model_selection import train_test_split\n",
        "X_train, X_test, Y_train, Y_test = train_test_split(X, Y, test_size=0.2)"
      ],
      "id": "dP1VFvL6jIbj"
    },
    {
      "cell_type": "code",
      "execution_count": 22,
      "metadata": {
        "id": "NvmcXB9SSfXs"
      },
      "outputs": [],
      "source": [
        "#this helper class operates with pytorch Dataset and helps to iterate through it\n",
        "class CVSSDataset(Dataset):\n",
        "    def __init__(self, X, Y):\n",
        "        self.X = X\n",
        "        self.y = Y\n",
        "        \n",
        "    def __len__(self):\n",
        "        return len(self.y)\n",
        "    \n",
        "    def __getitem__(self, idx):\n",
        "        return torch.from_numpy(self.X[idx][0].astype(np.int32)), self.y[idx], self.X[idx][1]"
      ],
      "id": "NvmcXB9SSfXs"
    },
    {
      "cell_type": "code",
      "execution_count": 23,
      "metadata": {
        "id": "dBmWOou1TQpq"
      },
      "outputs": [],
      "source": [
        "train_ds = CVSSDataset(X_train.values, Y_train.values)\n",
        "valid_ds = CVSSDataset(X_test.values, Y_test.values)"
      ],
      "id": "dBmWOou1TQpq"
    },
    {
      "cell_type": "code",
      "execution_count": 24,
      "metadata": {
        "id": "q4inJu9zTX7z"
      },
      "outputs": [],
      "source": [
        "# defines procedures for train and validate a model\n",
        "def train_model(model, epochs=10, lr=0.001):\n",
        "    EP = []\n",
        "    ACC = []\n",
        "    LS = []\n",
        "    parameters = filter(lambda p: p.requires_grad, model.parameters())\n",
        "    optimizer = torch.optim.Adam(parameters, lr=lr)\n",
        "    for i in range(epochs):\n",
        "        model.train()\n",
        "        sum_loss = 0.0\n",
        "        total = 0\n",
        "        for x, y, l in train_dl:\n",
        "            x = x.long()\n",
        "            y = y.long()\n",
        "            y_pred = model(x, l)\n",
        "            optimizer.zero_grad()\n",
        "            loss = F.cross_entropy(y_pred, y)\n",
        "            loss.backward()\n",
        "            optimizer.step()\n",
        "            sum_loss += loss.item()*y.shape[0]\n",
        "            total += y.shape[0]\n",
        "        val_loss, val_acc, val_rmse = validation_metrics(model, val_dl)\n",
        "        print(\"Epoch %d, train loss %.5f, val loss %.5f, val accuracy %.5f, and val rmse %.5f\" % (i+1, sum_loss/total, val_loss, val_acc, val_rmse))\n",
        "        EP.append(i+1)\n",
        "        ACC.append(val_acc)\n",
        "        LS.append(val_loss)\n",
        "    \n",
        "    #plot graph\n",
        "    plt.plot(EP, ACC, label='Accuracy')\n",
        "    plt.plot(EP, LS, label='Loss')\n",
        "    plt.legend()\n",
        "    plt.xlabel(\"Epochs\")\n",
        "    plt.show()\n",
        "\n",
        "def validation_metrics (model, valid_dl):\n",
        "    model.eval()\n",
        "    correct = 0\n",
        "    total = 0\n",
        "    sum_loss = 0.0\n",
        "    sum_rmse = 0.0\n",
        "    for x, y, l in valid_dl:\n",
        "        x = x.long()\n",
        "        y = y.long()\n",
        "        y_hat = model(x, l)\n",
        "        loss = F.cross_entropy(y_hat, y)\n",
        "        pred = torch.max(y_hat, 1)[1]\n",
        "        correct += (pred == y).float().sum()\n",
        "        total += y.shape[0]\n",
        "        sum_loss += loss.item()*y.shape[0]\n",
        "        sum_rmse += np.sqrt(mean_squared_error(pred, y.unsqueeze(-1)))*y.shape[0]\n",
        "    return sum_loss/total, correct/total, sum_rmse/total"
      ],
      "id": "q4inJu9zTX7z"
    },
    {
      "cell_type": "code",
      "execution_count": 25,
      "metadata": {
        "id": "gaOlWUJATgZ_"
      },
      "outputs": [],
      "source": [
        "#defines parameters for dataset iteration\n",
        "batch_size = 256\n",
        "vocab_size = len(words)\n",
        "train_dl = DataLoader(train_ds, batch_size=batch_size, shuffle=True)\n",
        "val_dl = DataLoader(valid_ds, batch_size=batch_size)"
      ],
      "id": "gaOlWUJATgZ_"
    },
    {
      "cell_type": "code",
      "execution_count": 26,
      "metadata": {
        "id": "YvU6OrSrTuSj"
      },
      "outputs": [],
      "source": [
        "# helper class to define model\n",
        "class LSTM_fixed_len(torch.nn.Module) :\n",
        "    def __init__(self, vocab_size, embedding_dim, hidden_dim) :\n",
        "        super().__init__()\n",
        "        self.embeddings = nn.Embedding(vocab_size, embedding_dim, padding_idx=0)  # embedding layer\n",
        "        self.lstm = nn.LSTM(embedding_dim, hidden_dim, batch_first=True)          # LSTM layer\n",
        "        self.linear = nn.Linear(hidden_dim, 101) # Linear output layer. Model should output an integer value from 1 to 100 (100 possible values), that's why dimention is 101.\n",
        "        self.dropout = nn.Dropout(0.2)\n",
        "        \n",
        "    def forward(self, x, l):\n",
        "        x = self.embeddings(x)\n",
        "        x = self.dropout(x)\n",
        "        lstm_out, (ht, ct) = self.lstm(x)\n",
        "        return self.linear(ht[-1])"
      ],
      "id": "YvU6OrSrTuSj"
    },
    {
      "cell_type": "code",
      "execution_count": 27,
      "metadata": {
        "id": "TIjnO2OkT0Jj"
      },
      "outputs": [],
      "source": [
        "# defines model with a string of a fixed lenth\n",
        "model_fixed =  LSTM_fixed_len(vocab_size, max, 50) # max is currently 557"
      ],
      "id": "TIjnO2OkT0Jj"
    },
    {
      "cell_type": "code",
      "execution_count": 28,
      "metadata": {
        "colab": {
          "base_uri": "https://localhost:8080/",
          "height": 458
        },
        "id": "RRPWwcteUSVF",
        "outputId": "ae190736-4f3b-4b1a-9af5-0966a8aa8373"
      },
      "outputs": [
        {
          "output_type": "stream",
          "name": "stdout",
          "text": [
            "Epoch 1, train loss 2.90919, val loss 2.58347, val accuracy 0.26113, and val rmse 20.26003\n",
            "Epoch 2, train loss 2.36942, val loss 2.21671, val accuracy 0.38492, and val rmse 15.91882\n",
            "Epoch 3, train loss 2.13101, val loss 2.10643, val accuracy 0.42049, and val rmse 15.79220\n",
            "Epoch 4, train loss 2.01381, val loss 2.05516, val accuracy 0.43699, and val rmse 15.21603\n",
            "Epoch 5, train loss 1.93300, val loss 2.01827, val accuracy 0.45117, and val rmse 15.14211\n",
            "Epoch 6, train loss 1.87643, val loss 1.98350, val accuracy 0.45932, and val rmse 14.78200\n",
            "Epoch 7, train loss 1.83191, val loss 1.95787, val accuracy 0.46544, and val rmse 14.65192\n",
            "Epoch 8, train loss 1.78920, val loss 1.94605, val accuracy 0.46984, and val rmse 14.63643\n",
            "Epoch 9, train loss 1.76754, val loss 1.94003, val accuracy 0.46984, and val rmse 14.48957\n",
            "Epoch 10, train loss 1.74715, val loss 1.93189, val accuracy 0.47295, and val rmse 14.76609\n"
          ]
        },
        {
          "output_type": "display_data",
          "data": {
            "text/plain": [
              "<Figure size 432x288 with 1 Axes>"
            ],
            "image/png": "[encoded data removed]"
          },
          "metadata": {
            "needs_background": "light"
          }
        }
      ],
      "source": [
        "#trains and evaluates model.\n",
        "epochs = 10\n",
        "\n",
        "train_model(model_fixed, epochs=epochs, lr=0.01)"
      ],
      "id": "RRPWwcteUSVF"
    }
  ],
  "metadata": {
    "colab": {
      "collapsed_sections": [],
      "name": "CSCE5218_002_Final_project_Rimma_Shilkina.ipynb",
      "provenance": []
    },
    "kernelspec": {
      "display_name": "Python 3 (ipykernel)",
      "language": "python",
      "name": "python3"
    },
    "language_info": {
      "codemirror_mode": {
        "name": "ipython",
        "version": 3
      },
      "file_extension": ".py",
      "mimetype": "text/x-python",
      "name": "python",
      "nbconvert_exporter": "python",
      "pygments_lexer": "ipython3",
      "version": "3.8.12"
    },
    "accelerator": "GPU"
  },
  "nbformat": 4,
  "nbformat_minor": 5
}